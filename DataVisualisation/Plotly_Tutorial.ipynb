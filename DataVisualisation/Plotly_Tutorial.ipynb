{
 "cells": [
  {
   "cell_type": "markdown",
   "metadata": {},
   "source": [
    "# PLOTLY TUTORIAL\n",
    "This notebook includes data visualisation notes with Plotly. "
   ]
  },
  {
   "cell_type": "markdown",
   "metadata": {},
   "source": [
    "<ul>\n",
    "    <li><a href=\"#1\"> Line Plot </a></li>\n",
    "    <li><a href=\"#2\"> Scatter Plot </a></li>\n",
    "    <li><a href=\"#3\"> Bar Plot </a></li>\n",
    "    <li><a href=\"#4\"> Pie Plot </a></li>\n",
    "    <li><a href=\"#5\"> Bubble Plot </a></li>\n",
    "    <li><a href=\"#6\"> Histogram </a></li>\n",
    "    <li><a href=\"#7\"> Word Cloud </a></li>\n",
    "    <li><a href=\"#8\"> Box Plot </a></li>\n",
    "    <li><a href=\"#9\"> Scatter Plot Matrix </a></li>\n",
    "    <li><a href=\"#10\"> Inset Plot </a></li>\n",
    "    <li><a href=\"#11\"> 3D Scatter Plot </a></li>\n",
    "    <li><a href=\"#12\"> Multiple Subplots </a></li>\n",
    "    <li><a href=\"#13\"> Map Plot </a></li>\n",
    "    <li><a href=\"#14\"> Animation Plot </a></li>\n",
    "</ul>"
   ]
  },
  {
   "cell_type": "code",
   "execution_count": null,
   "metadata": {},
   "outputs": [],
   "source": []
  }
 ],
 "metadata": {
  "kernelspec": {
   "display_name": "Python 3",
   "language": "python",
   "name": "python3"
  },
  "language_info": {
   "codemirror_mode": {
    "name": "ipython",
    "version": 3
   },
   "file_extension": ".py",
   "mimetype": "text/x-python",
   "name": "python",
   "nbconvert_exporter": "python",
   "pygments_lexer": "ipython3",
   "version": "3.7.6"
  }
 },
 "nbformat": 4,
 "nbformat_minor": 4
}
