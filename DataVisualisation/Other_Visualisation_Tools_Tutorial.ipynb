{
 "cells": [
  {
   "cell_type": "markdown",
   "metadata": {},
   "source": [
    "# OTHER VISUALISATION TOOLS TUTORIAL"
   ]
  },
  {
   "cell_type": "markdown",
   "metadata": {},
   "source": [
    "<ul>\n",
    "    <li><a href=\"#1\"> Matrix and Box Plot (missingno) </a></li>\n",
    "    <li><a href=\"#2\"> Parallel Plots (pandas) </a></li>\n",
    "    <li><a href=\"#3\"> Network Charts (networkx) </a></li>\n",
    "    <li><a href=\"#4\"> Venn Diagram (matplotlib) </a></li>\n",
    "    <li><a href=\"#5\"> Donut Plot (matplotlib) </a></li>\n",
    "    <li><a href=\"#6\"> Spyder Chart (matplotlib) </a></li>\n",
    "    <li><a href=\"#7\"> Cluster Map (seaborn) </a></li>\n",
    "    <li><a href=\"#8\"> Inset Plot (plotly) </a></li>\n",
    "    <li><a href=\"#9\"> 3D Plot (Plotly) </a></li>\n",
    "</ul>"
   ]
  },
  {
   "cell_type": "code",
   "execution_count": null,
   "metadata": {},
   "outputs": [],
   "source": []
  }
 ],
 "metadata": {
  "kernelspec": {
   "display_name": "Python 3",
   "language": "python",
   "name": "python3"
  },
  "language_info": {
   "codemirror_mode": {
    "name": "ipython",
    "version": 3
   },
   "file_extension": ".py",
   "mimetype": "text/x-python",
   "name": "python",
   "nbconvert_exporter": "python",
   "pygments_lexer": "ipython3",
   "version": "3.7.6"
  }
 },
 "nbformat": 4,
 "nbformat_minor": 4
}
